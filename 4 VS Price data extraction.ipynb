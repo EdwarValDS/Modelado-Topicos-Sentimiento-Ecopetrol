{
 "cells": [
  {
   "cell_type": "code",
   "execution_count": 1,
   "metadata": {},
   "outputs": [],
   "source": [
    "import pandas as pd\n",
    "import yfinance as yf\n",
    "from datetime import datetime, date\n",
    "import plotly.graph_objects as go\n",
    "import plotly.express as px\n",
    "from plotly.subplots import make_subplots\n",
    "import statsmodels.api as sm\n",
    "import numpy as np"
   ]
  },
  {
   "cell_type": "code",
   "execution_count": 2,
   "metadata": {},
   "outputs": [],
   "source": [
    "def price_data(start_date, end_date, ticker, columns_list, timeframe):\n",
    "\n",
    "    start_date = datetime.strptime(start_date, \"%Y-%m-%d\")\n",
    "    end_date = datetime.strptime(end_date, \"%Y-%m-%d\")\n",
    "    price = yf.download(ticker, start=start_date, end=end_date)\n",
    "    price.index = pd.to_datetime(price.index)\n",
    "    price = price[columns_list]\n",
    "    price = pd.DataFrame(price)\n",
    "\n",
    "    timeframe_settings = {'Close': 'last', 'Open': 'first'} #'High': 'max', 'Low': 'min', 'Close': 'last', 'Volume': 'sum'}\n",
    "    if timeframe==\"W\":\n",
    "        price = price.resample(\"W\").agg(timeframe_settings)\n",
    "    if timeframe==\"M\":\n",
    "        price = price.resample(\"M\").agg(timeframe_settings)\n",
    "    if timeframe==\"Y\":\n",
    "        price = price.resample(\"Y\").agg(timeframe_settings)\n",
    "    if timeframe==\"D\":\n",
    "        pass\n",
    "    return price"
   ]
  },
  {
   "cell_type": "code",
   "execution_count": 3,
   "metadata": {},
   "outputs": [
    {
     "name": "stdout",
     "output_type": "stream",
     "text": [
      "2012-07-01 00:00:00\n",
      "2023-12-31 00:00:00\n"
     ]
    }
   ],
   "source": [
    "week_sentiment = pd.read_csv(\"./Datos ecopetrol/Datos_sentimiento_definitivos_EC.csv\")\n",
    "week_topics = pd.read_csv(\"./Datos ecopetrol/Datos_ecopetrol_topicos_modelos.csv\")\n",
    "\n",
    "try:\n",
    "    week_sentiment = week_sentiment.drop(columns=\"Unnamed: 0\")\n",
    "    week_topics = week_topics.drop(columns=\"Unnamed: 0\")\n",
    "except:\n",
    "    pass\n",
    "\n",
    "# Join final data for models:\n",
    "week_data = pd.merge(week_sentiment, week_topics)\n",
    "week_data[\"Date\"] = pd.to_datetime(week_data[\"Date\"])\n",
    "\n",
    "print(week_data[\"Date\"].min())\n",
    "print(week_data[\"Date\"].max())"
   ]
  },
  {
   "cell_type": "code",
   "execution_count": 4,
   "metadata": {},
   "outputs": [
    {
     "name": "stderr",
     "output_type": "stream",
     "text": [
      "[*********************100%%**********************]  1 of 1 completed\n"
     ]
    }
   ],
   "source": [
    "week_price = price_data(start_date=\"2012-07-01\",end_date=\"2023-12-31\",ticker=\"EC\",columns_list=[\"Close\",\"Open\"],timeframe=\"W\")"
   ]
  },
  {
   "cell_type": "code",
   "execution_count": 5,
   "metadata": {},
   "outputs": [
    {
     "data": {
      "text/html": [
       "<div>\n",
       "<style scoped>\n",
       "    .dataframe tbody tr th:only-of-type {\n",
       "        vertical-align: middle;\n",
       "    }\n",
       "\n",
       "    .dataframe tbody tr th {\n",
       "        vertical-align: top;\n",
       "    }\n",
       "\n",
       "    .dataframe thead th {\n",
       "        text-align: right;\n",
       "    }\n",
       "</style>\n",
       "<table border=\"1\" class=\"dataframe\">\n",
       "  <thead>\n",
       "    <tr style=\"text-align: right;\">\n",
       "      <th></th>\n",
       "      <th>Close</th>\n",
       "      <th>Open</th>\n",
       "    </tr>\n",
       "    <tr>\n",
       "      <th>Date</th>\n",
       "      <th></th>\n",
       "      <th></th>\n",
       "    </tr>\n",
       "  </thead>\n",
       "  <tbody>\n",
       "    <tr>\n",
       "      <th>2012-07-08</th>\n",
       "      <td>55.740002</td>\n",
       "      <td>56.669998</td>\n",
       "    </tr>\n",
       "    <tr>\n",
       "      <th>2012-07-15</th>\n",
       "      <td>55.910000</td>\n",
       "      <td>55.270000</td>\n",
       "    </tr>\n",
       "    <tr>\n",
       "      <th>2012-07-22</th>\n",
       "      <td>55.080002</td>\n",
       "      <td>55.799999</td>\n",
       "    </tr>\n",
       "    <tr>\n",
       "      <th>2012-07-29</th>\n",
       "      <td>57.520000</td>\n",
       "      <td>54.290001</td>\n",
       "    </tr>\n",
       "    <tr>\n",
       "      <th>2012-08-05</th>\n",
       "      <td>59.080002</td>\n",
       "      <td>57.240002</td>\n",
       "    </tr>\n",
       "    <tr>\n",
       "      <th>...</th>\n",
       "      <td>...</td>\n",
       "      <td>...</td>\n",
       "    </tr>\n",
       "    <tr>\n",
       "      <th>2023-12-03</th>\n",
       "      <td>12.810000</td>\n",
       "      <td>12.700000</td>\n",
       "    </tr>\n",
       "    <tr>\n",
       "      <th>2023-12-10</th>\n",
       "      <td>12.720000</td>\n",
       "      <td>12.700000</td>\n",
       "    </tr>\n",
       "    <tr>\n",
       "      <th>2023-12-17</th>\n",
       "      <td>12.800000</td>\n",
       "      <td>12.710000</td>\n",
       "    </tr>\n",
       "    <tr>\n",
       "      <th>2023-12-24</th>\n",
       "      <td>11.940000</td>\n",
       "      <td>13.000000</td>\n",
       "    </tr>\n",
       "    <tr>\n",
       "      <th>2023-12-31</th>\n",
       "      <td>11.920000</td>\n",
       "      <td>12.060000</td>\n",
       "    </tr>\n",
       "  </tbody>\n",
       "</table>\n",
       "<p>600 rows × 2 columns</p>\n",
       "</div>"
      ],
      "text/plain": [
       "                Close       Open\n",
       "Date                            \n",
       "2012-07-08  55.740002  56.669998\n",
       "2012-07-15  55.910000  55.270000\n",
       "2012-07-22  55.080002  55.799999\n",
       "2012-07-29  57.520000  54.290001\n",
       "2012-08-05  59.080002  57.240002\n",
       "...               ...        ...\n",
       "2023-12-03  12.810000  12.700000\n",
       "2023-12-10  12.720000  12.700000\n",
       "2023-12-17  12.800000  12.710000\n",
       "2023-12-24  11.940000  13.000000\n",
       "2023-12-31  11.920000  12.060000\n",
       "\n",
       "[600 rows x 2 columns]"
      ]
     },
     "execution_count": 5,
     "metadata": {},
     "output_type": "execute_result"
    }
   ],
   "source": [
    "week_price"
   ]
  },
  {
   "cell_type": "code",
   "execution_count": 5,
   "metadata": {},
   "outputs": [],
   "source": [
    "# Calculating returns\n",
    "week_price[\"diff\"] = ((week_price['Close'] - week_price['Open']) / week_price['Open']) * 100\n",
    "\n",
    "# Price trend\n",
    "week_price[\"trend\"] = (week_price['Close'] > week_price['Open']).astype(int)\n",
    "\n",
    "\n",
    "# Getting open price of next week and close price after 1,2,3 and 4 weeks\n",
    "week_price[\"open1\"] = week_price[\"Open\"].shift(-1)\n",
    "week_price[\"close2\"] = week_price[\"Close\"].shift(-2)\n",
    "week_price[\"close3\"] = week_price[\"Close\"].shift(-3)\n",
    "week_price[\"close4\"] = week_price[\"Close\"].shift(-4)\n",
    "\n",
    "# Categorical variables\n",
    "week_price[\"trend1\"] = week_price[\"trend\"].shift(-1)\n",
    "week_price[\"trend2\"] = ((week_price['open1'] < week_price['close2'])).astype(int)\n",
    "week_price[\"trend3\"] = ((week_price['open1'] < week_price['close3'])).astype(int)\n",
    "week_price[\"trend4\"] = ((week_price['open1'] < week_price['close4'])).astype(int)\n",
    "\n",
    "# Numerical variables \"returns\"\n",
    "week_price[\"diff1\"] = week_price[\"diff\"].shift(-1)\n",
    "week_price['diff2'] = ((week_price['close2'] - week_price['open1']) / week_price['open1']) * 100\n",
    "week_price['diff3'] = ((week_price['close3'] - week_price['open1']) / week_price['open1']) * 100\n",
    "week_price['diff4'] = ((week_price['close4'] - week_price['open1']) / week_price['open1']) * 100"
   ]
  },
  {
   "cell_type": "code",
   "execution_count": 6,
   "metadata": {},
   "outputs": [],
   "source": [
    "week_price = week_price.dropna()"
   ]
  },
  {
   "cell_type": "code",
   "execution_count": 7,
   "metadata": {},
   "outputs": [],
   "source": [
    "week_data = pd.merge(week_price, week_data, on='Date', how='left')\n",
    "week_data[\"trend1\"] = week_data[\"trend1\"].astype(int)"
   ]
  },
  {
   "cell_type": "code",
   "execution_count": 8,
   "metadata": {},
   "outputs": [],
   "source": [
    "week_data = week_data.reset_index()"
   ]
  },
  {
   "cell_type": "code",
   "execution_count": 11,
   "metadata": {},
   "outputs": [],
   "source": [
    "week_data = week_data.drop(columns=\"index\")"
   ]
  },
  {
   "cell_type": "code",
   "execution_count": 12,
   "metadata": {},
   "outputs": [],
   "source": [
    "week_data.to_csv(\"./Datos ecopetrol/DATOS_PREDICTIVOS_EC.csv\", index=False)"
   ]
  }
 ],
 "metadata": {
  "kernelspec": {
   "display_name": "Python 3",
   "language": "python",
   "name": "python3"
  },
  "language_info": {
   "codemirror_mode": {
    "name": "ipython",
    "version": 3
   },
   "file_extension": ".py",
   "mimetype": "text/x-python",
   "name": "python",
   "nbconvert_exporter": "python",
   "pygments_lexer": "ipython3",
   "version": "3.11.5"
  }
 },
 "nbformat": 4,
 "nbformat_minor": 2
}
