{
 "cells": [
  {
   "cell_type": "code",
   "execution_count": 1,
   "metadata": {},
   "outputs": [
    {
     "name": "stderr",
     "output_type": "stream",
     "text": [
      "[nltk_data] Downloading package wordnet to\n",
      "[nltk_data]     C:\\Users\\Edward\\AppData\\Roaming\\nltk_data...\n",
      "[nltk_data]   Package wordnet is already up-to-date!\n",
      "[nltk_data] Downloading package stopwords to\n",
      "[nltk_data]     C:\\Users\\Edward\\AppData\\Roaming\\nltk_data...\n",
      "[nltk_data]   Package stopwords is already up-to-date!\n",
      "c:\\Users\\Edward\\AppData\\Local\\Programs\\Python\\Python311\\Lib\\site-packages\\tqdm\\auto.py:21: TqdmWarning: IProgress not found. Please update jupyter and ipywidgets. See https://ipywidgets.readthedocs.io/en/stable/user_install.html\n",
      "  from .autonotebook import tqdm as notebook_tqdm\n"
     ]
    }
   ],
   "source": [
    "import pandas as pd\n",
    "from datetime import datetime\n",
    "import plotly.express as px\n",
    "import matplotlib.pyplot as plt\n",
    "import numpy as np\n",
    "from wordcloud import WordCloud\n",
    "import plotly.graph_objects as go\n",
    "\n",
    "import nltk\n",
    "nltk.download('wordnet')\n",
    "from nltk.stem import WordNetLemmatizer\n",
    "from nltk.corpus import stopwords\n",
    "nltk.download('stopwords')\n",
    "from nltk.corpus import stopwords\n",
    "stop_words = set(stopwords.words(\"english\"))\n",
    "from nltk import FreqDist\n",
    "from nltk import ngrams\n",
    "\n",
    "from typing import Any, Optional\n",
    "\n",
    "from bertopic import BERTopic\n",
    "#from plotly.offline import init_notebook_mode\n",
    "#\n",
    "#init_notebook_mode(connected=True)\n",
    "\n",
    "import warnings\n",
    "warnings.filterwarnings(\"ignore\")"
   ]
  },
  {
   "cell_type": "code",
   "execution_count": 2,
   "metadata": {},
   "outputs": [],
   "source": [
    "def clean_text(columna_datos):\n",
    "    pattern = r'''(?x)                 # set flag to allow verbose regexps\n",
    "              (?:[A-Z]\\.)+         # abbreviations, e.g. U.S.A.\n",
    "              | \\w+(?:-\\w+)*       # words with optional internal hyphens\n",
    "              | \\$?\\d+(?:\\.\\d+)?%? # currency and percentages, e.g. $12.40, 82%\n",
    "              | \\.\\.\\.             # ellipsis\n",
    "              | [][.,;\"'?():-_`]   # these are separate tokens; includes ], [\n",
    "    '''\n",
    "    textos = columna_datos\n",
    "\n",
    "    # Tokenizar cada fila\n",
    "    tokens = [nltk.regexp_tokenize(texto, pattern) for texto in textos]\n",
    "\n",
    "    columna_tokens = pd.DataFrame()\n",
    "    columna_tokens[\"Tokens\"] = tokens\n",
    "\n",
    "    # Lematizador\n",
    "    lemmatizer = WordNetLemmatizer()\n",
    "    columna_tokens[\"Tokens\"] = columna_tokens[\"Tokens\"].apply(lambda tokens: [lemmatizer.lemmatize(token) for token in tokens])\n",
    "\n",
    "    # Eliminar stopwords:\n",
    "    columna_tokens[\"Tokens\"] = columna_tokens[\"Tokens\"].apply(lambda tokens: [token for token in tokens if token.lower() not in stop_words])\n",
    "\n",
    "    # Eliminar carácteres especiales y palabras cortas:\n",
    "    columna_tokens[\"Tokens\"] = columna_tokens[\"Tokens\"].apply(lambda tokens: [token for token in tokens if token.isalnum() and len(token) >=3])\n",
    "\n",
    "    # Convertir todo a minúsculas:\n",
    "    columna_tokens[\"Tokens\"] = columna_tokens[\"Tokens\"].apply(lambda tokens: [token.lower() for token in tokens])\n",
    "\n",
    "    # Convertir todo a texto:\n",
    "    columna_tokens[\"Tokens\"] = columna_tokens[\"Tokens\"].apply(lambda tokens: ' '.join([token.lower() for token in tokens]))\n",
    "\n",
    "    return columna_tokens"
   ]
  },
  {
   "cell_type": "code",
   "execution_count": 4,
   "metadata": {},
   "outputs": [],
   "source": [
    "data = pd.read_csv(\"./Datos ecopetrol/Datos_ecopetrol_semanales_divididos.csv\")\n",
    "data[\"Date\"] = pd.to_datetime(data[\"Date\"])\n",
    "data = data.sort_values(by=\"Date\")\n",
    "data[\"text\"] = clean_text(data[\"Title\"])\n",
    "\n",
    "train_weekly = data.loc[data[\"Split\"] == \"Train\"]\n",
    "val_weekly = data.loc[data[\"Split\"] == \"Validation\"]\n",
    "test_weekly = data.loc[data[\"Split\"] == \"Test\"]"
   ]
  },
  {
   "cell_type": "code",
   "execution_count": 5,
   "metadata": {},
   "outputs": [],
   "source": [
    "topic_model = BERTopic.load(\"./Modelos/bertopic_model\")"
   ]
  },
  {
   "cell_type": "code",
   "execution_count": 6,
   "metadata": {},
   "outputs": [],
   "source": [
    "%%capture\n",
    "assigned_topics = []\n",
    "for i in val_weekly[\"text\"]:\n",
    "    topics_pred, probs_pred = topic_model.transform(i)\n",
    "    assigned_topics.extend(topics_pred)\n",
    "val_weekly[\"Topic\"] = assigned_topics\n",
    "val_weekly.to_csv(\"./Datos ecopetrol/Datos_ecopetrol_topicos_validation.csv\", index=False)"
   ]
  }
 ],
 "metadata": {
  "kernelspec": {
   "display_name": "Python 3",
   "language": "python",
   "name": "python3"
  },
  "language_info": {
   "codemirror_mode": {
    "name": "ipython",
    "version": 3
   },
   "file_extension": ".py",
   "mimetype": "text/x-python",
   "name": "python",
   "nbconvert_exporter": "python",
   "pygments_lexer": "ipython3",
   "version": "3.11.5"
  }
 },
 "nbformat": 4,
 "nbformat_minor": 2
}
