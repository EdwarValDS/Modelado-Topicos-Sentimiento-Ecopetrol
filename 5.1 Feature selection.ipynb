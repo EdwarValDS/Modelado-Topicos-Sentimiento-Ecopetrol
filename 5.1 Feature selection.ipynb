{
 "cells": [
  {
   "cell_type": "markdown",
   "metadata": {},
   "source": [
    "# Libraries"
   ]
  },
  {
   "cell_type": "code",
   "execution_count": 148,
   "metadata": {},
   "outputs": [],
   "source": [
    "import matplotlib.pyplot as plt\n",
    "import numpy as np\n",
    "import pandas as pd\n",
    "import seaborn as sns\n",
    "\n",
    "from sklearn.feature_selection import RFE\n",
    "from sklearn.feature_selection import RFECV\n",
    "from sklearn.feature_selection import SelectKBest, chi2, f_classif, f_regression \n",
    "\n",
    "import warnings\n",
    "warnings.filterwarnings(\"ignore\")"
   ]
  },
  {
   "cell_type": "markdown",
   "metadata": {},
   "source": [
    "# Data"
   ]
  },
  {
   "cell_type": "code",
   "execution_count": 141,
   "metadata": {},
   "outputs": [],
   "source": [
    "data = pd.read_csv(\"./Datos ecopetrol/DATOS_PREDICTIVOS_EC.csv\")\n",
    "data['Date'] = pd.to_datetime(data['Date'])\n",
    "data = data.sort_values(by='Date')\n",
    "data = data.set_index(\"Date\")\n",
    "data[\"close1\"] = data[\"Close\"].shift(-1)\n",
    "column_to_insert = data['close1']\n",
    "data.drop(columns=['close1'], inplace=True)\n",
    "data.insert(0, 'close1', column_to_insert)\n",
    "\n",
    "data = data.drop(columns=[\"Close\", \"Open\",\"diff\",\"trend\",\"open1\"])\n",
    "\n",
    "topic_columns = [col for col in data.columns if 'Topic' in col]\n",
    "data[topic_columns] = data[topic_columns].apply(pd.to_numeric, errors='coerce').astype('Int64')\n",
    "\n",
    "data=data.dropna()\n",
    "\n",
    "# Get relevant features for only train data\n",
    "date1 = \"2020-07-12\"\n",
    "data = data.loc[data.index<=date1]\n",
    "\n",
    "trend1 = data.drop(columns=[\"trend2\",\"trend3\",\"trend4\",\"diff1\",\"diff2\",\"diff3\",\"diff4\",\"close1\",\"close2\",\"close3\",\"close4\"])\n",
    "trend2 = data.drop(columns=[\"trend1\",\"trend3\",\"trend4\",\"diff1\",\"diff2\",\"diff3\",\"diff4\",\"close1\",\"close2\",\"close3\",\"close4\"])\n",
    "trend3 = data.drop(columns=[\"trend1\",\"trend2\",\"trend4\",\"diff1\",\"diff2\",\"diff3\",\"diff4\",\"close1\",\"close2\",\"close3\",\"close4\"])\n",
    "trend4 = data.drop(columns=[\"trend1\",\"trend2\",\"trend3\",\"diff1\",\"diff2\",\"diff3\",\"diff4\",\"close1\",\"close2\",\"close3\",\"close4\"])\n",
    "\n",
    "diff1 = data.drop(columns=[\"trend1\",\"trend2\",\"trend3\",\"trend4\",\"diff2\",\"diff3\",\"diff4\",\"close1\",\"close2\",\"close3\",\"close4\"])\n",
    "diff2 = data.drop(columns=[\"trend1\",\"trend2\",\"trend3\",\"trend4\",\"diff1\",\"diff3\",\"diff4\",\"close1\",\"close2\",\"close3\",\"close4\"])\n",
    "diff3 = data.drop(columns=[\"trend1\",\"trend2\",\"trend3\",\"trend4\",\"diff1\",\"diff2\",\"diff4\",\"close1\",\"close2\",\"close3\",\"close4\"])\n",
    "diff4 = data.drop(columns=[\"trend1\",\"trend2\",\"trend3\",\"trend4\",\"diff1\",\"diff2\",\"diff3\",\"close1\",\"close2\",\"close3\",\"close4\"])"
   ]
  },
  {
   "cell_type": "markdown",
   "metadata": {},
   "source": [
    "# SelectKBest for trends"
   ]
  },
  {
   "cell_type": "markdown",
   "metadata": {},
   "source": [
    "## Categorical"
   ]
  },
  {
   "cell_type": "code",
   "execution_count": 126,
   "metadata": {},
   "outputs": [
    {
     "name": "stdout",
     "output_type": "stream",
     "text": [
      "trend1 ['Topic_7_appeared', 'Topic_24_appeared', 'Topic_10_appeared', 'Topic_33_appeared', 'Topic_19_appeared', 'Topic_31_appeared', 'Topic_17_appeared']\n",
      "trend2 ['Topic_5_appeared', 'Topic_2_appeared', 'Topic_28_appeared', 'Topic_7_appeared', 'Topic_24_appeared', 'Topic_16_appeared', 'Topic_23_appeared', 'Topic_29_appeared', 'Topic_9_appeared', 'Topic_19_appeared', 'Topic_13_appeared', 'Topic_20_appeared', 'Topic_17_appeared']\n",
      "trend3 ['Topic_2_appeared', 'Topic_16_appeared', 'Topic_4_appeared', 'Topic_29_appeared', 'Topic_32_appeared', 'Topic_18_appeared', 'Topic_22_appeared']\n",
      "trend4 ['Topic_14_appeared', 'Topic_24_appeared', 'Topic_16_appeared', 'Topic_11_appeared', 'Topic_23_appeared', 'Topic_26_appeared', 'Topic_29_appeared', 'Topic_19_appeared', 'Topic_37_appeared', 'Topic_18_appeared']\n"
     ]
    }
   ],
   "source": [
    "dataframes = [trend1,trend2,trend3,trend4]\n",
    "\n",
    "topic_columns = [col for col in data.columns if 'Topic' in col]\n",
    "\n",
    "threshold = 1\n",
    "\n",
    "objectives = []\n",
    "final_list = []\n",
    "\n",
    "for i in dataframes:\n",
    "    X_train = i[topic_columns]\n",
    "    y_train = i.iloc[:,:1]\n",
    "\n",
    "    select_feature = SelectKBest(chi2, k=10).fit(X_train, y_train)\n",
    "\n",
    "    selected_features_df = pd.DataFrame({'Feature':list(X_train.columns),\n",
    "                                     'Scores':select_feature.scores_})\n",
    "    \n",
    "    features_list = selected_features_df[selected_features_df['Scores'] > threshold]['Feature'].tolist()\n",
    "\n",
    "    objectives.append(i.iloc[:,:1].columns[0])\n",
    "    final_list.append(features_list)\n",
    "\n",
    "    print(i.iloc[:,:1].columns[0], features_list)\n",
    "\n",
    "cat_features = pd.DataFrame({\"Objective\":objectives,\"Variables\":final_list})"
   ]
  },
  {
   "cell_type": "markdown",
   "metadata": {},
   "source": [
    "## Escalar"
   ]
  },
  {
   "cell_type": "code",
   "execution_count": 124,
   "metadata": {},
   "outputs": [
    {
     "name": "stdout",
     "output_type": "stream",
     "text": [
      "trend1 ['average_headline_vader_10periods', 'title_vader_sentiment']\n",
      "trend2 ['average_headline_vader_10periods', 'average_title_vader_10periods', 'headline_vader_sentiment', 'negative_vader', 'neutral', 'neutral_vader']\n",
      "trend3 ['average_title_vader_10periods', 'headline_vader_sentiment', 'neutral', 'neutral_vader']\n",
      "trend4 ['average_finbert_10periods', 'average_title_vader_10periods', 'neutral', 'neutral_vader']\n"
     ]
    }
   ],
   "source": [
    "dataframes = [trend1,trend2,trend3,trend4]\n",
    "\n",
    "topic_columns = [col for col in data.columns if 'Topic' in col]\n",
    "\n",
    "threshold = 1\n",
    "\n",
    "objectives = []\n",
    "final_list = []\n",
    "\n",
    "for i in dataframes:\n",
    "\n",
    "    X_train = i[i.columns.difference(topic_columns)]\n",
    "    X_train = X_train.drop(columns=i.iloc[:,:1].columns[0])\n",
    "    y_train = i.iloc[:,:1]\n",
    "\n",
    "    select_feature = SelectKBest(f_classif, k=10).fit(X_train, y_train)\n",
    "\n",
    "    selected_features_df = pd.DataFrame({'Feature':list(X_train.columns),\n",
    "                                     'Scores':select_feature.scores_})\n",
    "    \n",
    "    features_list = selected_features_df[selected_features_df['Scores'] > threshold]['Feature'].tolist()\n",
    "\n",
    "    objectives.append(i.iloc[:,:1].columns[0])\n",
    "    final_list.append(features_list)\n",
    "\n",
    "    print(i.iloc[:,:1].columns[0], features_list)\n",
    "\n",
    "esc_features = pd.DataFrame({\"Objective\":objectives,\"Variables\":final_list})"
   ]
  },
  {
   "cell_type": "markdown",
   "metadata": {},
   "source": [
    "# SelectKBest for volatility\n"
   ]
  },
  {
   "cell_type": "markdown",
   "metadata": {},
   "source": [
    "## Categorical"
   ]
  },
  {
   "cell_type": "code",
   "execution_count": 153,
   "metadata": {},
   "outputs": [
    {
     "name": "stdout",
     "output_type": "stream",
     "text": [
      "diff1 ['Topic_-1_appeared', 'Topic_5_appeared', 'Topic_7_appeared', 'Topic_21_appeared', 'Topic_14_appeared', 'Topic_24_appeared', 'Topic_12_appeared', 'Topic_4_appeared', 'Topic_23_appeared', 'Topic_29_appeared', 'Topic_33_appeared', 'Topic_19_appeared', 'Topic_20_appeared', 'Topic_30_appeared', 'Topic_32_appeared', 'Topic_17_appeared']\n",
      "diff2 ['Topic_2_appeared', 'Topic_8_appeared', 'Topic_14_appeared', 'Topic_24_appeared', 'Topic_16_appeared', 'Topic_12_appeared', 'Topic_23_appeared', 'Topic_29_appeared', 'Topic_20_appeared', 'Topic_30_appeared', 'Topic_18_appeared', 'Topic_17_appeared']\n",
      "diff3 ['Topic_2_appeared', 'Topic_7_appeared', 'Topic_14_appeared', 'Topic_24_appeared', 'Topic_16_appeared', 'Topic_12_appeared', 'Topic_11_appeared', 'Topic_23_appeared', 'Topic_29_appeared', 'Topic_38_appeared', 'Topic_33_appeared', 'Topic_19_appeared', 'Topic_20_appeared', 'Topic_17_appeared', 'Topic_22_appeared']\n",
      "diff4 ['Topic_1_appeared', 'Topic_2_appeared', 'Topic_36_appeared', 'Topic_7_appeared', 'Topic_14_appeared', 'Topic_24_appeared', 'Topic_16_appeared', 'Topic_12_appeared', 'Topic_4_appeared', 'Topic_23_appeared', 'Topic_26_appeared', 'Topic_29_appeared', 'Topic_33_appeared', 'Topic_19_appeared', 'Topic_37_appeared', 'Topic_17_appeared', 'Topic_22_appeared']\n"
     ]
    }
   ],
   "source": [
    "dataframes = [diff1,diff2,diff3,diff4]\n",
    "\n",
    "topic_columns = [col for col in data.columns if 'Topic' in col]\n",
    "\n",
    "threshold = 1\n",
    "\n",
    "objectives = []\n",
    "final_list = []\n",
    "\n",
    "for i in dataframes:\n",
    "    X_train = i[topic_columns]\n",
    "    y_train = i.iloc[:,:1]\n",
    "\n",
    "    select_feature = SelectKBest(f_regression, k=10).fit(X_train, y_train)\n",
    "\n",
    "    selected_features_df = pd.DataFrame({'Feature':list(X_train.columns),\n",
    "                                     'Scores':select_feature.scores_})\n",
    "    \n",
    "    features_list = selected_features_df[selected_features_df['Scores'] > threshold]['Feature'].tolist()\n",
    "\n",
    "    objectives.append(i.iloc[:,:1].columns[0])\n",
    "    final_list.append(features_list)\n",
    "\n",
    "    print(i.iloc[:,:1].columns[0], features_list)\n",
    "\n",
    "cat_features = pd.DataFrame({\"Objective\":objectives,\"Variables\":final_list})"
   ]
  },
  {
   "cell_type": "markdown",
   "metadata": {},
   "source": [
    "## Escalar"
   ]
  },
  {
   "cell_type": "code",
   "execution_count": 155,
   "metadata": {},
   "outputs": [
    {
     "name": "stdout",
     "output_type": "stream",
     "text": [
      "diff1 ['title_vader_sentiment']\n",
      "diff2 ['headline_vader_sentiment', 'negative', 'negative_vader', 'neutral_vader']\n",
      "diff3 ['average_title_vader_10periods', 'negative', 'negative_vader', 'neutral_vader']\n",
      "diff4 ['average_title_vader_10periods', 'headline_vader_sentiment', 'negative', 'negative_vader', 'neutral_vader']\n"
     ]
    }
   ],
   "source": [
    "dataframes = [diff1,diff2,diff3,diff4]\n",
    "\n",
    "topic_columns = [col for col in data.columns if 'Topic' in col]\n",
    "\n",
    "threshold = 1\n",
    "\n",
    "objectives = []\n",
    "final_list = []\n",
    "\n",
    "for i in dataframes:\n",
    "\n",
    "    X_train = i[i.columns.difference(topic_columns)]\n",
    "    X_train = X_train.drop(columns=i.iloc[:,:1].columns[0])\n",
    "    y_train = i.iloc[:,:1]\n",
    "\n",
    "    select_feature = SelectKBest(f_regression, k=10).fit(X_train, y_train)\n",
    "\n",
    "    selected_features_df = pd.DataFrame({'Feature':list(X_train.columns),\n",
    "                                     'Scores':select_feature.scores_})\n",
    "    \n",
    "    features_list = selected_features_df[selected_features_df['Scores'] > threshold]['Feature'].tolist()\n",
    "\n",
    "    objectives.append(i.iloc[:,:1].columns[0])\n",
    "    final_list.append(features_list)\n",
    "\n",
    "    print(i.iloc[:,:1].columns[0], features_list)"
   ]
  }
 ],
 "metadata": {
  "kernelspec": {
   "display_name": "Python 3",
   "language": "python",
   "name": "python3"
  },
  "language_info": {
   "codemirror_mode": {
    "name": "ipython",
    "version": 3
   },
   "file_extension": ".py",
   "mimetype": "text/x-python",
   "name": "python",
   "nbconvert_exporter": "python",
   "pygments_lexer": "ipython3",
   "version": "3.11.5"
  }
 },
 "nbformat": 4,
 "nbformat_minor": 2
}
